{
 "cells": [
  {
   "cell_type": "code",
   "execution_count": 1,
   "metadata": {},
   "outputs": [],
   "source": [
    "from requests import Request, Session\n",
    "import requests, re, time\n",
    "from requests.exceptions import ConnectionError, Timeout, TooManyRedirects\n",
    "import json, csv, os\n",
    "from pprint import pprint\n",
    "from bs4 import BeautifulSoup\n",
    "import pandas as pd"
   ]
  },
  {
   "cell_type": "code",
   "execution_count": 102,
   "metadata": {},
   "outputs": [],
   "source": [
    "import requests\n",
    "requests.get('https://192.168.81.35/api/?key=LUFRPT1FcDdDc0xhL2VUdU1aNFdzeXJRdHlmdGg1SEk9clJWL1ZEclg3VCtCdm1BK0paMnlFMVArNlhlZ1JpQ3NDZjBYRWtxNEs3cz0=&type=config&action=set&xpath=/config/shared/address/entry[@name=%27AWSHK-172.24.137.16-SAP-hdbb2%27]%20&element=%3Cip-netmask%3E172.24.137.16/32%3C/ip-netmask%3E')\n"
   ]
  },
  {
   "cell_type": "code",
   "execution_count": 99,
   "metadata": {},
   "outputs": [],
   "source": [
    "def top_pair(link, top_number=5):\n",
    "    target_pair = []\n",
    "    print (link)\n",
    "    table_page = requests.get(link)\n",
    "    soup = BeautifulSoup(table_page.text, 'lxml')\n",
    "    table = soup.find('tbody')\n",
    "    all_pair = table.find_all('tr')[0:top_number]\n",
    "    for pair in all_pair:\n",
    "        target_pair.append(pair.find('a', {'target': '_blank'}).getText())\n",
    "\n",
    "    return target_pair\n",
    "\n",
    "def coinmarket_exchange(target, top_number=5, df=True):\n",
    "    print ('top_number:', top_number)\n",
    "    \n",
    "    all_exchanges = dict()\n",
    "\n",
    "    inner_link_start = 'https://coinmarketcap.com'\n",
    "    exchanges_page = requests.get('https://coinmarketcap.com/rankings/exchanges/')\n",
    "    soup = BeautifulSoup(exchanges_page.text, 'lxml')\n",
    "    table = soup.find('tbody')\n",
    "\n",
    "    all_coins = table.find_all('tr')\n",
    "    vol_pattern = r'[\\d]+'\n",
    "\n",
    "    for coin in all_coins:\n",
    "        name = str(coin.find('td', {'class': 'no-wrap currency-name'}).getText()).replace('\\n','')\n",
    "        if name.lower() not in target:\n",
    "            continue\n",
    "        inner_link = coin.find('td', {'class': 'no-wrap currency-name'})\n",
    "        inner_link = inner_link.find(href=True)['href']\n",
    "        inner_link = inner_link_start + inner_link\n",
    "\n",
    "        vol = coin.find_all('td',{'class':'no-wrap text-right'})[0].getText()\n",
    "        vol = ''.join(re.findall(vol_pattern, vol))\n",
    "\n",
    "        all_exchanges[name] = dict()\n",
    "        all_exchanges[name]['Adjusted Vol'] = int(vol)\n",
    "        all_exchanges[name]['Top %d pair'%top_number] = top_pair(inner_link, top_number=top_number)\n",
    "        time.sleep(30)\n",
    "        \n",
    "    if df == False:\n",
    "        return all_exchanges\n",
    "    \n",
    "    return dict_to_pivot_table(all_exchanges, top_number=top_number)\n",
    "    \n",
    "\n",
    "def dict_to_pivot_table(dict_data, top_number=5):\n",
    "    dt_dict = dict()\n",
    "    dt_dict['exchange'] = []\n",
    "    dt_dict['Adjusted Vol'] = []\n",
    "    dt_dict['Top %d pair' %top_number] = []\n",
    "    dt_dict['num'] = []\n",
    "    for key in dict_data.keys():\n",
    "        for pair in dict_data[key]['Top %d pair'%top_number]:\n",
    "            dt_dict['exchange'].append(key)\n",
    "            dt_dict['Adjusted Vol'].append(dict_data[key]['Adjusted Vol'])\n",
    "            dt_dict['Top %d pair'%top_number].append(pair)\n",
    "            dt_dict['num'].append(0) # for creating table\n",
    "   \n",
    "    df = pd.DataFrame(dt_dict)\n",
    "    table = pd.pivot_table(dt, index=['exchange', 'Adjusted Vol','Top %d pair'%top_number], values=['num'])\n",
    "    table = table.drop(columns=['num'])\n",
    "    return table"
   ]
  },
  {
   "cell_type": "code",
   "execution_count": 81,
   "metadata": {},
   "outputs": [
    {
     "name": "stdout",
     "output_type": "stream",
     "text": [
      "https://coinmarketcap.com/exchanges/bitstamp/\n"
     ]
    },
    {
     "data": {
      "text/plain": [
       "['BTC/USD', 'BTC/EUR', 'XRP/USD', 'ETH/USD', 'LTC/USD']"
      ]
     },
     "execution_count": 81,
     "metadata": {},
     "output_type": "execute_result"
    }
   ],
   "source": [
    "top_pair('https://coinmarketcap.com/exchanges/bitstamp/', top_number=5)"
   ]
  },
  {
   "cell_type": "code",
   "execution_count": 100,
   "metadata": {},
   "outputs": [
    {
     "name": "stdout",
     "output_type": "stream",
     "text": [
      "top_number: 5\n",
      "https://coinmarketcap.com/exchanges/binance/\n",
      "https://coinmarketcap.com/exchanges/okex/\n",
      "https://coinmarketcap.com/exchanges/kucoin/\n",
      "https://coinmarketcap.com/exchanges/bitmax/\n",
      "https://coinmarketcap.com/exchanges/bitstamp/\n"
     ]
    }
   ],
   "source": [
    "exhange_data = coinmarket_exchange(['huobi','binance','okex','bitmax','kucoin','bitstamp'])"
   ]
  },
  {
   "cell_type": "code",
   "execution_count": 101,
   "metadata": {},
   "outputs": [
    {
     "data": {
      "text/html": [
       "<div>\n",
       "<style scoped>\n",
       "    .dataframe tbody tr th:only-of-type {\n",
       "        vertical-align: middle;\n",
       "    }\n",
       "\n",
       "    .dataframe tbody tr th {\n",
       "        vertical-align: top;\n",
       "    }\n",
       "\n",
       "    .dataframe thead th {\n",
       "        text-align: right;\n",
       "    }\n",
       "</style>\n",
       "<table border=\"1\" class=\"dataframe\">\n",
       "  <thead>\n",
       "    <tr style=\"text-align: right;\">\n",
       "      <th></th>\n",
       "      <th></th>\n",
       "      <th></th>\n",
       "    </tr>\n",
       "    <tr>\n",
       "      <th>exchange</th>\n",
       "      <th>Adjusted Vol</th>\n",
       "      <th>Top 5 pair</th>\n",
       "    </tr>\n",
       "  </thead>\n",
       "  <tbody>\n",
       "    <tr>\n",
       "      <th rowspan=\"5\" valign=\"top\">Binance</th>\n",
       "      <th rowspan=\"5\" valign=\"top\">686881708</th>\n",
       "      <th>BNB/BTC</th>\n",
       "    </tr>\n",
       "    <tr>\n",
       "      <th>BNB/USDT</th>\n",
       "    </tr>\n",
       "    <tr>\n",
       "      <th>BTC/USDT</th>\n",
       "    </tr>\n",
       "    <tr>\n",
       "      <th>ETH/BTC</th>\n",
       "    </tr>\n",
       "    <tr>\n",
       "      <th>ETH/USDT</th>\n",
       "    </tr>\n",
       "    <tr>\n",
       "      <th rowspan=\"5\" valign=\"top\">BitMax</th>\n",
       "      <th rowspan=\"5\" valign=\"top\">109815982</th>\n",
       "      <th>BNB/USDT</th>\n",
       "    </tr>\n",
       "    <tr>\n",
       "      <th>BTC/USDT</th>\n",
       "    </tr>\n",
       "    <tr>\n",
       "      <th>BTMX/USDT</th>\n",
       "    </tr>\n",
       "    <tr>\n",
       "      <th>PAX/USDT</th>\n",
       "    </tr>\n",
       "    <tr>\n",
       "      <th>USDC/USDT</th>\n",
       "    </tr>\n",
       "    <tr>\n",
       "      <th rowspan=\"5\" valign=\"top\">Bitstamp</th>\n",
       "      <th rowspan=\"5\" valign=\"top\">64562816</th>\n",
       "      <th>BTC/EUR</th>\n",
       "    </tr>\n",
       "    <tr>\n",
       "      <th>BTC/USD</th>\n",
       "    </tr>\n",
       "    <tr>\n",
       "      <th>ETH/USD</th>\n",
       "    </tr>\n",
       "    <tr>\n",
       "      <th>LTC/USD</th>\n",
       "    </tr>\n",
       "    <tr>\n",
       "      <th>XRP/USD</th>\n",
       "    </tr>\n",
       "    <tr>\n",
       "      <th rowspan=\"5\" valign=\"top\">KuCoin</th>\n",
       "      <th rowspan=\"5\" valign=\"top\">461414133</th>\n",
       "      <th>BCHSV/ETH</th>\n",
       "    </tr>\n",
       "    <tr>\n",
       "      <th>BCHSV/USDT</th>\n",
       "    </tr>\n",
       "    <tr>\n",
       "      <th>BTC/USDT</th>\n",
       "    </tr>\n",
       "    <tr>\n",
       "      <th>ETH/USDT</th>\n",
       "    </tr>\n",
       "    <tr>\n",
       "      <th>XRP/USDT</th>\n",
       "    </tr>\n",
       "    <tr>\n",
       "      <th rowspan=\"5\" valign=\"top\">OKEx</th>\n",
       "      <th rowspan=\"5\" valign=\"top\">653027755</th>\n",
       "      <th>BTC/USDT</th>\n",
       "    </tr>\n",
       "    <tr>\n",
       "      <th>ETC/BTC</th>\n",
       "    </tr>\n",
       "    <tr>\n",
       "      <th>ETC/USDT</th>\n",
       "    </tr>\n",
       "    <tr>\n",
       "      <th>ETH/USDT</th>\n",
       "    </tr>\n",
       "    <tr>\n",
       "      <th>OKB/USDT</th>\n",
       "    </tr>\n",
       "  </tbody>\n",
       "</table>\n",
       "</div>"
      ],
      "text/plain": [
       "Empty DataFrame\n",
       "Columns: []\n",
       "Index: [(Binance, 686881708, BNB/BTC), (Binance, 686881708, BNB/USDT), (Binance, 686881708, BTC/USDT), (Binance, 686881708, ETH/BTC), (Binance, 686881708, ETH/USDT), (BitMax, 109815982, BNB/USDT), (BitMax, 109815982, BTC/USDT), (BitMax, 109815982, BTMX/USDT), (BitMax, 109815982, PAX/USDT), (BitMax, 109815982, USDC/USDT), (Bitstamp, 64562816, BTC/EUR), (Bitstamp, 64562816, BTC/USD), (Bitstamp, 64562816, ETH/USD), (Bitstamp, 64562816, LTC/USD), (Bitstamp, 64562816, XRP/USD), (KuCoin, 461414133, BCHSV/ETH), (KuCoin, 461414133, BCHSV/USDT), (KuCoin, 461414133, BTC/USDT), (KuCoin, 461414133, ETH/USDT), (KuCoin, 461414133, XRP/USDT), (OKEx, 653027755, BTC/USDT), (OKEx, 653027755, ETC/BTC), (OKEx, 653027755, ETC/USDT), (OKEx, 653027755, ETH/USDT), (OKEx, 653027755, OKB/USDT)]"
      ]
     },
     "execution_count": 101,
     "metadata": {},
     "output_type": "execute_result"
    }
   ],
   "source": [
    "exhange_data"
   ]
  },
  {
   "cell_type": "code",
   "execution_count": 29,
   "metadata": {},
   "outputs": [],
   "source": [
    "data_dict = dict()\n",
    "data_dict['exchange'] = []\n",
    "data_dict['Adjusted Vol'] = []\n",
    "data_dict['Top 5 pair'] = []\n",
    "data_dict['num'] = []"
   ]
  },
  {
   "cell_type": "code",
   "execution_count": 30,
   "metadata": {},
   "outputs": [],
   "source": [
    "for key in exhange_data.keys():\n",
    "    for pair in exhange_data[key]['Top 5 pair']:\n",
    "        data_dict['exchange'].append(key)\n",
    "        data_dict['Adjusted Vol'].append(exhange_data[key]['Adjusted Vol'])\n",
    "        data_dict['Top 5 pair'].append(pair)\n",
    "        data_dict['num'].append(0)"
   ]
  },
  {
   "cell_type": "code",
   "execution_count": 31,
   "metadata": {},
   "outputs": [
    {
     "data": {
      "text/html": [
       "<div>\n",
       "<style scoped>\n",
       "    .dataframe tbody tr th:only-of-type {\n",
       "        vertical-align: middle;\n",
       "    }\n",
       "\n",
       "    .dataframe tbody tr th {\n",
       "        vertical-align: top;\n",
       "    }\n",
       "\n",
       "    .dataframe thead th {\n",
       "        text-align: right;\n",
       "    }\n",
       "</style>\n",
       "<table border=\"1\" class=\"dataframe\">\n",
       "  <thead>\n",
       "    <tr style=\"text-align: right;\">\n",
       "      <th></th>\n",
       "      <th>exchange</th>\n",
       "      <th>Adjusted Vol</th>\n",
       "      <th>Top 5 pair</th>\n",
       "      <th>num</th>\n",
       "    </tr>\n",
       "  </thead>\n",
       "  <tbody>\n",
       "    <tr>\n",
       "      <th>0</th>\n",
       "      <td>Binance</td>\n",
       "      <td>686881708</td>\n",
       "      <td>BTC/USDT</td>\n",
       "      <td>0</td>\n",
       "    </tr>\n",
       "    <tr>\n",
       "      <th>1</th>\n",
       "      <td>Binance</td>\n",
       "      <td>686881708</td>\n",
       "      <td>BNB/USDT</td>\n",
       "      <td>0</td>\n",
       "    </tr>\n",
       "    <tr>\n",
       "      <th>2</th>\n",
       "      <td>Binance</td>\n",
       "      <td>686881708</td>\n",
       "      <td>BNB/BTC</td>\n",
       "      <td>0</td>\n",
       "    </tr>\n",
       "    <tr>\n",
       "      <th>3</th>\n",
       "      <td>Binance</td>\n",
       "      <td>686881708</td>\n",
       "      <td>ETH/USDT</td>\n",
       "      <td>0</td>\n",
       "    </tr>\n",
       "    <tr>\n",
       "      <th>4</th>\n",
       "      <td>Binance</td>\n",
       "      <td>686881708</td>\n",
       "      <td>ETH/BTC</td>\n",
       "      <td>0</td>\n",
       "    </tr>\n",
       "  </tbody>\n",
       "</table>\n",
       "</div>"
      ],
      "text/plain": [
       "  exchange  Adjusted Vol Top 5 pair  num\n",
       "0  Binance     686881708   BTC/USDT    0\n",
       "1  Binance     686881708   BNB/USDT    0\n",
       "2  Binance     686881708    BNB/BTC    0\n",
       "3  Binance     686881708   ETH/USDT    0\n",
       "4  Binance     686881708    ETH/BTC    0"
      ]
     },
     "execution_count": 31,
     "metadata": {},
     "output_type": "execute_result"
    }
   ],
   "source": [
    "dt = pd.DataFrame(data_dict)\n",
    "dt.head()"
   ]
  },
  {
   "cell_type": "code",
   "execution_count": 34,
   "metadata": {},
   "outputs": [],
   "source": [
    "table = pd.pivot_table(dt, index=['exchange', 'Adjusted Vol','Top 5 pair'], values=['num'])"
   ]
  },
  {
   "cell_type": "code",
   "execution_count": 40,
   "metadata": {},
   "outputs": [],
   "source": [
    "table = table.drop(columns=['num'])"
   ]
  },
  {
   "cell_type": "code",
   "execution_count": 96,
   "metadata": {},
   "outputs": [],
   "source": [
    "table.to_excel('tmp2.xlsx',header=False)"
   ]
  },
  {
   "cell_type": "code",
   "execution_count": 94,
   "metadata": {},
   "outputs": [
    {
     "data": {
      "text/html": [
       "<div>\n",
       "<style scoped>\n",
       "    .dataframe tbody tr th:only-of-type {\n",
       "        vertical-align: middle;\n",
       "    }\n",
       "\n",
       "    .dataframe tbody tr th {\n",
       "        vertical-align: top;\n",
       "    }\n",
       "\n",
       "    .dataframe thead th {\n",
       "        text-align: right;\n",
       "    }\n",
       "</style>\n",
       "<table border=\"1\" class=\"dataframe\">\n",
       "  <thead>\n",
       "    <tr style=\"text-align: right;\">\n",
       "      <th></th>\n",
       "      <th></th>\n",
       "      <th></th>\n",
       "    </tr>\n",
       "    <tr>\n",
       "      <th>exchange</th>\n",
       "      <th>Adjusted Vol</th>\n",
       "      <th>Top 5 pair</th>\n",
       "    </tr>\n",
       "  </thead>\n",
       "  <tbody>\n",
       "    <tr>\n",
       "      <th rowspan=\"5\" valign=\"top\">Binance</th>\n",
       "      <th rowspan=\"5\" valign=\"top\">686881708</th>\n",
       "      <th>BNB/BTC</th>\n",
       "    </tr>\n",
       "    <tr>\n",
       "      <th>BNB/USDT</th>\n",
       "    </tr>\n",
       "    <tr>\n",
       "      <th>BTC/USDT</th>\n",
       "    </tr>\n",
       "    <tr>\n",
       "      <th>ETH/BTC</th>\n",
       "    </tr>\n",
       "    <tr>\n",
       "      <th>ETH/USDT</th>\n",
       "    </tr>\n",
       "    <tr>\n",
       "      <th rowspan=\"5\" valign=\"top\">BitMax</th>\n",
       "      <th rowspan=\"5\" valign=\"top\">109815982</th>\n",
       "      <th>BNB/USDT</th>\n",
       "    </tr>\n",
       "    <tr>\n",
       "      <th>BTC/USDT</th>\n",
       "    </tr>\n",
       "    <tr>\n",
       "      <th>BTMX/USDT</th>\n",
       "    </tr>\n",
       "    <tr>\n",
       "      <th>PAX/USDT</th>\n",
       "    </tr>\n",
       "    <tr>\n",
       "      <th>USDC/USDT</th>\n",
       "    </tr>\n",
       "    <tr>\n",
       "      <th rowspan=\"5\" valign=\"top\">Bitstamp</th>\n",
       "      <th rowspan=\"5\" valign=\"top\">64562816</th>\n",
       "      <th>BTC/EUR</th>\n",
       "    </tr>\n",
       "    <tr>\n",
       "      <th>BTC/USD</th>\n",
       "    </tr>\n",
       "    <tr>\n",
       "      <th>ETH/USD</th>\n",
       "    </tr>\n",
       "    <tr>\n",
       "      <th>LTC/USD</th>\n",
       "    </tr>\n",
       "    <tr>\n",
       "      <th>XRP/USD</th>\n",
       "    </tr>\n",
       "    <tr>\n",
       "      <th rowspan=\"5\" valign=\"top\">KuCoin</th>\n",
       "      <th rowspan=\"5\" valign=\"top\">461414133</th>\n",
       "      <th>BCHSV/ETH</th>\n",
       "    </tr>\n",
       "    <tr>\n",
       "      <th>BCHSV/USDT</th>\n",
       "    </tr>\n",
       "    <tr>\n",
       "      <th>BTC/USDT</th>\n",
       "    </tr>\n",
       "    <tr>\n",
       "      <th>ETH/USDT</th>\n",
       "    </tr>\n",
       "    <tr>\n",
       "      <th>XRP/USDT</th>\n",
       "    </tr>\n",
       "    <tr>\n",
       "      <th rowspan=\"5\" valign=\"top\">OKEx</th>\n",
       "      <th rowspan=\"5\" valign=\"top\">653027755</th>\n",
       "      <th>BTC/USDT</th>\n",
       "    </tr>\n",
       "    <tr>\n",
       "      <th>ETC/BTC</th>\n",
       "    </tr>\n",
       "    <tr>\n",
       "      <th>ETC/USDT</th>\n",
       "    </tr>\n",
       "    <tr>\n",
       "      <th>ETH/USDT</th>\n",
       "    </tr>\n",
       "    <tr>\n",
       "      <th>OKB/USDT</th>\n",
       "    </tr>\n",
       "  </tbody>\n",
       "</table>\n",
       "</div>"
      ],
      "text/plain": [
       "Empty DataFrame\n",
       "Columns: []\n",
       "Index: [(Binance, 686881708, BNB/BTC), (Binance, 686881708, BNB/USDT), (Binance, 686881708, BTC/USDT), (Binance, 686881708, ETH/BTC), (Binance, 686881708, ETH/USDT), (BitMax, 109815982, BNB/USDT), (BitMax, 109815982, BTC/USDT), (BitMax, 109815982, BTMX/USDT), (BitMax, 109815982, PAX/USDT), (BitMax, 109815982, USDC/USDT), (Bitstamp, 64562816, BTC/EUR), (Bitstamp, 64562816, BTC/USD), (Bitstamp, 64562816, ETH/USD), (Bitstamp, 64562816, LTC/USD), (Bitstamp, 64562816, XRP/USD), (KuCoin, 461414133, BCHSV/ETH), (KuCoin, 461414133, BCHSV/USDT), (KuCoin, 461414133, BTC/USDT), (KuCoin, 461414133, ETH/USDT), (KuCoin, 461414133, XRP/USDT), (OKEx, 653027755, BTC/USDT), (OKEx, 653027755, ETC/BTC), (OKEx, 653027755, ETC/USDT), (OKEx, 653027755, ETH/USDT), (OKEx, 653027755, OKB/USDT)]"
      ]
     },
     "execution_count": 94,
     "metadata": {},
     "output_type": "execute_result"
    }
   ],
   "source": [
    "table"
   ]
  },
  {
   "cell_type": "code",
   "execution_count": 27,
   "metadata": {},
   "outputs": [
    {
     "ename": "TypeError",
     "evalue": "pivot_table() missing 1 required positional argument: 'data'",
     "output_type": "error",
     "traceback": [
      "\u001b[1;31m---------------------------------------------------------------------------\u001b[0m",
      "\u001b[1;31mTypeError\u001b[0m                                 Traceback (most recent call last)",
      "\u001b[1;32m<ipython-input-27-034fd2743979>\u001b[0m in \u001b[0;36m<module>\u001b[1;34m\u001b[0m\n\u001b[0;32m      1\u001b[0m df = pd.pivot_table(index=['weeks', 'device'], columns=['new_rank'],\n\u001b[1;32m----> 2\u001b[1;33m                     values=['adtext'], aggfunc=lambda x: ' '.join(x))\n\u001b[0m",
      "\u001b[1;31mTypeError\u001b[0m: pivot_table() missing 1 required positional argument: 'data'"
     ]
    }
   ],
   "source": [
    "df = pd.pivot_table(index=['weeks', 'device'], columns=['new_rank'],\n",
    "                    values=['adtext'], aggfunc=lambda x: ' '.join(x))"
   ]
  }
 ],
 "metadata": {
  "kernelspec": {
   "display_name": "Python 3",
   "language": "python",
   "name": "python3"
  },
  "language_info": {
   "codemirror_mode": {
    "name": "ipython",
    "version": 3
   },
   "file_extension": ".py",
   "mimetype": "text/x-python",
   "name": "python",
   "nbconvert_exporter": "python",
   "pygments_lexer": "ipython3",
   "version": "3.7.3"
  }
 },
 "nbformat": 4,
 "nbformat_minor": 2
}
